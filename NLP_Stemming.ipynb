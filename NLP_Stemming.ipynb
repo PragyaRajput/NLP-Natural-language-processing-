{
 "cells": [
  {
   "cell_type": "code",
   "execution_count": 1,
   "metadata": {},
   "outputs": [],
   "source": [
    "# Stemming-process of reducing infected words to their root word.\n",
    "# history,historical->histori\n",
    "#finally,final,finalized->fina\n",
    "#Lemmantization-meaningful word.\n",
    "#history,historical->history\n",
    "#finally,final,finalized->final"
   ]
  },
  {
   "cell_type": "code",
   "execution_count": 14,
   "metadata": {},
   "outputs": [],
   "source": [
    "import nltk\n",
    "from nltk.stem import PorterStemmer\n",
    "from nltk.corpus import stopwords"
   ]
  },
  {
   "cell_type": "code",
   "execution_count": 15,
   "metadata": {},
   "outputs": [],
   "source": [
    "paragraph=\"\"\"George Romney (July 8, 1907 – July 26, 1995) was an American businessman and\n",
    "Republican Party politician, and the father of Mitt Romney. George Romney was born to\n",
    "Americans living in the Mormon colonies in Mexico. He spent much of his youth in Salt Lake City,\n",
    "but moved to Detroit in 1939, working in the automotive industry, and rising to lead American Motors Corporation\n",
    "from 1954 to 1962. Entering politics at a 1961 Michigan state constitutional convention, he was elected governor\n",
    "in 1962, 1964, and 1966. He ran for the Republican nomination for president in 1968, but was defeated by Richard Nixon. \n",
    "President Nixon appointed Romney as Secretary of Housing and Urban Development.\n",
    "Romney's plans, which included housing for the poor and the desegregation of suburbs, were modestly successful.\n",
    "He left office in 1973, returning to the private sector. Devoutly religious,\n",
    "he presided over the Detroit Stake of The Church of Jesus Christ of Latter-day Saints,\n",
    "serving as a regional representative of the Twelve within his church.\"\"\""
   ]
  },
  {
   "cell_type": "code",
   "execution_count": 16,
   "metadata": {},
   "outputs": [],
   "source": [
    "sentence=nltk.sent_tokenize(paragraph)"
   ]
  },
  {
   "cell_type": "code",
   "execution_count": 17,
   "metadata": {},
   "outputs": [],
   "source": [
    "stemmer=PorterStemmer()"
   ]
  },
  {
   "cell_type": "code",
   "execution_count": 21,
   "metadata": {},
   "outputs": [],
   "source": [
    "for i in range(len(sentence)):\n",
    "    words=nltk.word_tokenize(sentence[i])\n",
    "    words=[stemmer.stem(word) for word in words if word not in set(stopwords.words(\"english\"))]\n",
    "    sentence[i]=' '.join(words)\n",
    "    "
   ]
  },
  {
   "cell_type": "code",
   "execution_count": 22,
   "metadata": {},
   "outputs": [
    {
     "data": {
      "text/plain": [
       "['georgromney ( juli8,1907–juli26,1995 ) americanbusinessmanrepublicanpartipolitician , fathermittromney .',\n",
       " 'georgromneybornamericanlivemormoncolonimexico .',\n",
       " 'hespentmuchyouthsaltlakec , movedetroit1939 , workautomotindustri , riseleadamericanmotorcorpor19541962 .',\n",
       " 'enterpolit1961michiganstateconstitutconv , electgovernor1962,1964,1966 .',\n",
       " 'heranrepublicannominpresid1968 , defeatrichardnixon .',\n",
       " 'presidnixonappointromneysecretarihousurbandevelop .',\n",
       " \"romney'splan , includhouspoordesegregsuburb , modestlisuccess .\",\n",
       " 'heleftoffic1973 , returnprivatsector .',\n",
       " 'devoutlireligi , presiddetroitstakethechurchjesuchristlatter-daysaint , servregionreprestwelvwithinchurch .']"
      ]
     },
     "execution_count": 22,
     "metadata": {},
     "output_type": "execute_result"
    }
   ],
   "source": [
    "sentence"
   ]
  },
  {
   "cell_type": "code",
   "execution_count": 20,
   "metadata": {},
   "outputs": [],
   "source": [
    "from nltk.stem import LancasterStemmer,SnowballStemmer"
   ]
  },
  {
   "cell_type": "code",
   "execution_count": null,
   "metadata": {},
   "outputs": [],
   "source": []
  }
 ],
 "metadata": {
  "kernelspec": {
   "display_name": "Python 3",
   "language": "python",
   "name": "python3"
  },
  "language_info": {
   "codemirror_mode": {
    "name": "ipython",
    "version": 3
   },
   "file_extension": ".py",
   "mimetype": "text/x-python",
   "name": "python",
   "nbconvert_exporter": "python",
   "pygments_lexer": "ipython3",
   "version": "3.8.5"
  }
 },
 "nbformat": 4,
 "nbformat_minor": 4
}
