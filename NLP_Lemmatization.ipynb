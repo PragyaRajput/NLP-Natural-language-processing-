{
 "cells": [
  {
   "cell_type": "code",
   "execution_count": 17,
   "metadata": {},
   "outputs": [],
   "source": [
    "import nltk\n",
    "from nltk.stem import PorterStemmer\n",
    "from nltk.corpus import stopwords\n",
    "from nltk.stem import WordNetLemmatizer"
   ]
  },
  {
   "cell_type": "code",
   "execution_count": 18,
   "metadata": {},
   "outputs": [],
   "source": [
    "paragraph=\"\"\"George Romney (July 8, 1907 – July 26, 1995) was an American businessman and Republican Party politician, and \n",
    "the father of Mitt Romney. George Romney was born to Americans living in the Mormon colonies in Mexico. He spent much of his youth in Salt Lake City,\n",
    "but moved to Detroit in 1939, working in the automotive industry, and rising to lead American Motors Corporation from 1954 \n",
    "to 1962. Entering politics at a 1961 Michigan state constitutional convention, he was elected governor in 1962, 1964, and \n",
    "1966. He ran for the Republican nomination for president in 1968, but was defeated by Richard Nixon. President Nixon \n",
    "appointed Romney as Secretary of Housing and Urban Development.Romney's plans, which included housing for the poor and the\n",
    "desegregation of suburbs, were modestly successful.He left office in 1973, returning to the private sector. Devoutly religious,he presided over the Detroit Stake of The Church of Jesus Christ of Latter-day Saints,\n",
    "serving as a regional representative of the Twelve within his church.\"\"\""
   ]
  },
  {
   "cell_type": "code",
   "execution_count": 19,
   "metadata": {},
   "outputs": [],
   "source": [
    "sentence=nltk.sent_tokenize(paragraph)"
   ]
  },
  {
   "cell_type": "code",
   "execution_count": 20,
   "metadata": {},
   "outputs": [],
   "source": [
    "lemmat=WordNetLemmatizer()"
   ]
  },
  {
   "cell_type": "code",
   "execution_count": 23,
   "metadata": {},
   "outputs": [],
   "source": [
    "for i in range(len(sentence)):\n",
    "    words=nltk.word_tokenize(sentence[i])\n",
    "    words=[lemmat.lemmatize(word) for word in words if word not in set(stopwords.words(\"english\"))]\n",
    "    sentence[i]=' '.join(words)"
   ]
  },
  {
   "cell_type": "code",
   "execution_count": 24,
   "metadata": {},
   "outputs": [
    {
     "data": {
      "text/plain": [
       "['GeorgeRomney ( July8,1907–July26,1995 ) AmericanbusinessmanRepublicanPartypolitician , fatherMittRomney .',\n",
       " 'GeorgeRomneybornAmericanslivingMormoncolonyMexico .',\n",
       " 'HespentmuchyouthSaltLakeCity , movedDetroit1939 , workingautomotiveindustry , risingleadAmericanMotorsCorporation19541962 .',\n",
       " 'Enteringpolitics1961Michiganstateconstitutionalconvention , electedgovernor1962,1964,1966 .',\n",
       " 'HeranRepublicannominationpresident1968 , defeatedRichardNixon .',\n",
       " \"PresidentNixonappointedRomneySecretaryHousingUrbanDevelopment.Romney'splan , includedhousingpoordesegregationsuburb , modestlysuccessful.Heleftoffice1973 , returningprivatesector .\",\n",
       " 'Devoutlyreligious , presidedDetroitStakeTheChurchJesusChristLatter-daySaints , servingregionalrepresentativeTwelvewithinchurch .']"
      ]
     },
     "execution_count": 24,
     "metadata": {},
     "output_type": "execute_result"
    }
   ],
   "source": [
    "sentence"
   ]
  },
  {
   "cell_type": "code",
   "execution_count": null,
   "metadata": {},
   "outputs": [],
   "source": []
  }
 ],
 "metadata": {
  "kernelspec": {
   "display_name": "Python 3",
   "language": "python",
   "name": "python3"
  },
  "language_info": {
   "codemirror_mode": {
    "name": "ipython",
    "version": 3
   },
   "file_extension": ".py",
   "mimetype": "text/x-python",
   "name": "python",
   "nbconvert_exporter": "python",
   "pygments_lexer": "ipython3",
   "version": "3.8.5"
  }
 },
 "nbformat": 4,
 "nbformat_minor": 4
}
