{
 "cells": [
  {
   "cell_type": "code",
   "execution_count": 31,
   "metadata": {},
   "outputs": [],
   "source": [
    "import nltk\n",
    "import re"
   ]
  },
  {
   "cell_type": "code",
   "execution_count": 32,
   "metadata": {},
   "outputs": [],
   "source": [
    "from gensim.models import Word2Vec\n",
    "from nltk.corpus import stopwords"
   ]
  },
  {
   "cell_type": "code",
   "execution_count": 33,
   "metadata": {},
   "outputs": [],
   "source": [
    "#pip install gensim"
   ]
  },
  {
   "cell_type": "code",
   "execution_count": 34,
   "metadata": {},
   "outputs": [],
   "source": [
    "#pip install python-Levenshtein"
   ]
  },
  {
   "cell_type": "code",
   "execution_count": 35,
   "metadata": {},
   "outputs": [],
   "source": [
    "paragraph=\"\"\"George Romney (July 8, 1907 – July 26, 1995) was an American businessman and\n",
    "Republican Party politician, and the father of Mitt Romney. George Romney was born to\n",
    "Americans living in the Mormon colonies in Mexico. He spent much of his youth in Salt Lake City,\n",
    "but moved to Detroit in 1939, working in the automotive industry, and rising to lead American Motors Corporation\n",
    "from 1954 to 1962. Entering politics at a 1961 Michigan state constitutional convention, he was elected governor\n",
    "in 1962, 1964, and 1966. He ran for the Republican nomination for president in 1968, but was defeated by Richard Nixon. \n",
    "President Nixon appointed Romney as Secretary of Housing and Urban Development.\n",
    "Romney's plans, which included housing for the poor and the desegregation of suburbs, were modestly successful.\n",
    "He left office in 1973, returning to the private sector. Devoutly religious,\n",
    "he presided over the Detroit Stake of The Church of Jesus Christ of Latter-day Saints,\n",
    "serving as a regional representative of the Twelve within his church.\"\"\""
   ]
  },
  {
   "cell_type": "code",
   "execution_count": 44,
   "metadata": {},
   "outputs": [],
   "source": [
    "#Data Cleaning\n",
    "# text = re.sub(r'\\[[0-9]*\\]',' ',paragraph)\n",
    "# text = re.sub(r'\\s+',' ',text)\n",
    "# text = text.lower()\n",
    "# text = re.sub(r'\\d',' ',text)\n",
    "# text = re.sub(r'\\s+',' ',text)\n",
    "text=re.sub(r\"[^a-zA-Z]\",\" \", paragraph)\n",
    "text = text.lower()"
   ]
  },
  {
   "cell_type": "code",
   "execution_count": 45,
   "metadata": {},
   "outputs": [],
   "source": [
    "sentence1=nltk.sent_tokenize(text)"
   ]
  },
  {
   "cell_type": "code",
   "execution_count": 46,
   "metadata": {},
   "outputs": [],
   "source": [
    "sentence1=[nltk.word_tokenize(sentence) for sentence in sentence1]"
   ]
  },
  {
   "cell_type": "code",
   "execution_count": 47,
   "metadata": {},
   "outputs": [],
   "source": [
    "for i in range(len(sentence1)):\n",
    "    sentence1[i]=[word for word in sentence1[i] if word not in stopwords.words(\"english\")]"
   ]
  },
  {
   "cell_type": "code",
   "execution_count": 48,
   "metadata": {},
   "outputs": [],
   "source": [
    "model=Word2Vec(sentence1,min_count=1)"
   ]
  },
  {
   "cell_type": "code",
   "execution_count": 49,
   "metadata": {},
   "outputs": [
    {
     "data": {
      "text/plain": [
       "{'romney': 0,\n",
       " 'george': 1,\n",
       " 'july': 2,\n",
       " 'american': 3,\n",
       " 'detroit': 4,\n",
       " 'republican': 5,\n",
       " 'president': 6,\n",
       " 'church': 7,\n",
       " 'housing': 8,\n",
       " 'nixon': 9,\n",
       " 'rising': 10,\n",
       " 'working': 11,\n",
       " 'automotive': 12,\n",
       " 'industry': 13,\n",
       " 'corporation': 14,\n",
       " 'lead': 15,\n",
       " 'motors': 16,\n",
       " 'city': 17,\n",
       " 'entering': 18,\n",
       " 'politics': 19,\n",
       " 'michigan': 20,\n",
       " 'moved': 21,\n",
       " 'youth': 22,\n",
       " 'lake': 23,\n",
       " 'americans': 24,\n",
       " 'businessman': 25,\n",
       " 'party': 26,\n",
       " 'politician': 27,\n",
       " 'father': 28,\n",
       " 'mitt': 29,\n",
       " 'born': 30,\n",
       " 'living': 31,\n",
       " 'salt': 32,\n",
       " 'mormon': 33,\n",
       " 'colonies': 34,\n",
       " 'mexico': 35,\n",
       " 'spent': 36,\n",
       " 'much': 37,\n",
       " 'constitutional': 38,\n",
       " 'state': 39,\n",
       " 'within': 40,\n",
       " 'convention': 41,\n",
       " 'elected': 42,\n",
       " 'returning': 43,\n",
       " 'private': 44,\n",
       " 'sector': 45,\n",
       " 'devoutly': 46,\n",
       " 'religious': 47,\n",
       " 'presided': 48,\n",
       " 'stake': 49,\n",
       " 'jesus': 50,\n",
       " 'christ': 51,\n",
       " 'latter': 52,\n",
       " 'day': 53,\n",
       " 'saints': 54,\n",
       " 'serving': 55,\n",
       " 'regional': 56,\n",
       " 'representative': 57,\n",
       " 'office': 58,\n",
       " 'left': 59,\n",
       " 'successful': 60,\n",
       " 'secretary': 61,\n",
       " 'twelve': 62,\n",
       " 'ran': 63,\n",
       " 'nomination': 64,\n",
       " 'defeated': 65,\n",
       " 'richard': 66,\n",
       " 'appointed': 67,\n",
       " 'urban': 68,\n",
       " 'modestly': 69,\n",
       " 'development': 70,\n",
       " 'plans': 71,\n",
       " 'included': 72,\n",
       " 'poor': 73,\n",
       " 'desegregation': 74,\n",
       " 'suburbs': 75,\n",
       " 'governor': 76}"
      ]
     },
     "execution_count": 49,
     "metadata": {},
     "output_type": "execute_result"
    }
   ],
   "source": [
    "words = model.wv.key_to_index \n",
    "words"
   ]
  },
  {
   "cell_type": "code",
   "execution_count": 50,
   "metadata": {},
   "outputs": [
    {
     "data": {
      "text/plain": [
       "(100,)"
      ]
     },
     "execution_count": 50,
     "metadata": {},
     "output_type": "execute_result"
    }
   ],
   "source": [
    "vector = model.wv['july']\n",
    "vector.shape"
   ]
  },
  {
   "cell_type": "code",
   "execution_count": 51,
   "metadata": {},
   "outputs": [
    {
     "data": {
      "text/plain": [
       "[('president', 0.3044195771217346),\n",
       " ('romney', 0.19596995413303375),\n",
       " ('latter', 0.19482718408107758),\n",
       " ('politics', 0.18929675221443176),\n",
       " ('party', 0.1674491912126541),\n",
       " ('sector', 0.16324758529663086),\n",
       " ('jesus', 0.1627034693956375),\n",
       " ('convention', 0.1437329798936844),\n",
       " ('motors', 0.14277830719947815),\n",
       " ('nixon', 0.12686173617839813)]"
      ]
     },
     "execution_count": 51,
     "metadata": {},
     "output_type": "execute_result"
    }
   ],
   "source": [
    "similar = model.wv.most_similar('father')\n",
    "similar"
   ]
  },
  {
   "cell_type": "code",
   "execution_count": null,
   "metadata": {},
   "outputs": [],
   "source": []
  }
 ],
 "metadata": {
  "kernelspec": {
   "display_name": "Python 3",
   "language": "python",
   "name": "python3"
  },
  "language_info": {
   "codemirror_mode": {
    "name": "ipython",
    "version": 3
   },
   "file_extension": ".py",
   "mimetype": "text/x-python",
   "name": "python",
   "nbconvert_exporter": "python",
   "pygments_lexer": "ipython3",
   "version": "3.8.5"
  }
 },
 "nbformat": 4,
 "nbformat_minor": 4
}
